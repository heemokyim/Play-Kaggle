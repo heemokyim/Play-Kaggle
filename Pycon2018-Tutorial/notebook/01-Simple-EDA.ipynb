{
  "cells": [
    {
      "metadata": {
        "_uuid": "8f2839f25d086af736a60e9eeb907d3b93b6e0e5",
        "_cell_guid": "b1076dfc-b9ad-4769-8c92-a6c4dae69d19",
        "trusted": true
      },
      "cell_type": "code",
      "source": "# This Python 3 environment comes with many helpful analytics libraries installed\n# It is defined by the kaggle/python docker image: https://github.com/kaggle/docker-python\n# For example, here's several helpful packages to load in \n\nimport numpy as np # linear algebra\nimport pandas as pd # data processing, CSV file I/O (e.g. pd.read_csv)\nimport lightgbm as lgbm\nimport matplotlib.pyplot as plt\nimport seaborn as sns\nfrom sklearn.model_selection import KFold, StratifiedKFold\nfrom sklearn.metrics import log_loss\nfrom sklearn.model_selection import train_test_split\nfrom sklearn.ensemble import RandomForestClassifier, ExtraTreesClassifier\nfrom sklearn.neighbors import KNeighborsClassifier\nfrom sklearn.svm import SVC\n\nfrom keras.models import Sequential\nfrom keras.layers import Dense\nfrom keras.layers import Dense, Dropout, BatchNormalization, Activation \nfrom keras.callbacks import EarlyStopping, ModelCheckpoint\n\nimport gc\n# Input data files are available in the \"../input/\" directory.\n# For example, running this (by clicking run or pressing Shift+Enter) will list the files in the input directory\n\nimport os\nprint(os.listdir(\"../input\"))\n\n# Any results you write to the current directory are saved as output.",
      "execution_count": null,
      "outputs": []
    },
    {
      "metadata": {
        "_cell_guid": "79c7e3d0-c299-4dcb-8224-4455121ee9b0",
        "_uuid": "d629ff2d2480ee46fbb7e2d37f6b5fab8052498a",
        "trusted": true
      },
      "cell_type": "code",
      "source": "train = pd.read_csv('../input/kaggletutorial/covertype_train.csv')\ntest = pd.read_csv('../input/kaggletutorial/covertype_test.csv')",
      "execution_count": null,
      "outputs": []
    },
    {
      "metadata": {
        "_uuid": "f336379775e9242c2ad1ec4c88cfc5837bd66eca"
      },
      "cell_type": "markdown",
      "source": "# 기본적인 Data 탐색을 시작하겠습니다."
    },
    {
      "metadata": {
        "trusted": true,
        "_uuid": "9bb876ed7f1c52d4cfd6e25b5b2a82b64f999264"
      },
      "cell_type": "code",
      "source": "train.shape",
      "execution_count": null,
      "outputs": []
    },
    {
      "metadata": {
        "trusted": true,
        "_uuid": "12a48a4a573348b80ee66401ab85091e8a3e56b9"
      },
      "cell_type": "code",
      "source": "test.shape",
      "execution_count": null,
      "outputs": []
    },
    {
      "metadata": {
        "trusted": true,
        "_uuid": "34e0fd13c85f2760a1ee66df00042289537a4467"
      },
      "cell_type": "code",
      "source": "train.head()",
      "execution_count": null,
      "outputs": []
    },
    {
      "metadata": {
        "trusted": true,
        "_uuid": "450505be981a4296aef08b3101cd2dc3bdd41cf7"
      },
      "cell_type": "code",
      "source": "train.info()",
      "execution_count": null,
      "outputs": []
    },
    {
      "metadata": {
        "trusted": true,
        "_uuid": "162a0b1cf77a620de3e55f305c4ab3e04d14b3c7"
      },
      "cell_type": "code",
      "source": "train.describe()",
      "execution_count": null,
      "outputs": []
    },
    {
      "metadata": {
        "_uuid": "02bbabe67effa425f68b9d3e51600c4076ced8ea"
      },
      "cell_type": "markdown",
      "source": "### Column Type Check"
    },
    {
      "metadata": {
        "trusted": true,
        "_uuid": "a157531dce8897cac515e5b2b1573bb53327e070"
      },
      "cell_type": "code",
      "source": "dtype_df = train.dtypes.reset_index()\ndtype_df.columns = ['column','dtype']\ndtype_df.groupby(['dtype']).agg('count').reset_index()",
      "execution_count": null,
      "outputs": []
    },
    {
      "metadata": {
        "_uuid": "89d984f95167d2bf72ac88cf8f8b24b6e8797f64"
      },
      "cell_type": "markdown",
      "source": "### Null Check"
    },
    {
      "metadata": {
        "trusted": true,
        "_uuid": "a8f3735c4150607ec10ee77b2386582f14d91315"
      },
      "cell_type": "code",
      "source": "train.isnull().sum()",
      "execution_count": null,
      "outputs": []
    },
    {
      "metadata": {
        "trusted": true,
        "_uuid": "d90e6fce91140897989b097b64e62e0f7613d17c"
      },
      "cell_type": "code",
      "source": "missing_df = train.isnull().sum().reset_index()\nmissing_df.columns = ['column', 'count']\nmissing_df['ratio'] = missing_df['count'] / train.shape[0]\nmissing_df.loc[missing_df['ratio'] != 0]",
      "execution_count": null,
      "outputs": []
    },
    {
      "metadata": {
        "_uuid": "aeb0b6907d16332a110689b762d2bd9b2e0f9fe2"
      },
      "cell_type": "markdown",
      "source": "### Target Value Check"
    },
    {
      "metadata": {
        "trusted": true,
        "_uuid": "4045ac6988069e678057dcfc085c690141b44042"
      },
      "cell_type": "code",
      "source": "set(train.columns) - set(test.columns)",
      "execution_count": null,
      "outputs": []
    },
    {
      "metadata": {
        "trusted": true,
        "_uuid": "70ac0ff871e7afff9567275d8cc2b17169fb6d09"
      },
      "cell_type": "code",
      "source": "train['Cover_Type'].value_counts() / train.shape[0] * 100",
      "execution_count": null,
      "outputs": []
    },
    {
      "metadata": {
        "trusted": true,
        "_uuid": "91026497a6ad7781c1c4ab21c2d70cd92aa3f946"
      },
      "cell_type": "code",
      "source": "train['Cover_Type'].value_counts().plot(kind='bar')\nplt.show()",
      "execution_count": null,
      "outputs": []
    },
    {
      "metadata": {
        "trusted": true,
        "_uuid": "07f6b18f250d232b47ce8bc9f881e21503d4af89"
      },
      "cell_type": "code",
      "source": "plt.figure(figsize=(8,6))\nplt.plot(train['Cover_Type'].cumsum())\nplt.title('ID Leak')\nplt.show()",
      "execution_count": null,
      "outputs": []
    },
    {
      "metadata": {
        "_uuid": "d0ce13e502a00228780042e81a8eba11605c907c"
      },
      "cell_type": "markdown",
      "source": "### Category Feature"
    },
    {
      "metadata": {
        "trusted": true,
        "_uuid": "af6967c55d52bc6a1f397ba3bdc9242c4bfe5d7c"
      },
      "cell_type": "code",
      "source": "category_feature = [ col for col in train.columns if train[col].dtypes == \"object\"]\ncategory_feature",
      "execution_count": null,
      "outputs": []
    },
    {
      "metadata": {
        "trusted": true,
        "_uuid": "fdf28ee744bf250cbbbb7a22de543ac6f7123fcd"
      },
      "cell_type": "code",
      "source": "train[category_feature].head()",
      "execution_count": null,
      "outputs": []
    },
    {
      "metadata": {
        "trusted": true,
        "_uuid": "780a22b30dde0e974410dd46127b49d55ed2b409"
      },
      "cell_type": "code",
      "source": "train[category_feature].nunique()",
      "execution_count": null,
      "outputs": []
    },
    {
      "metadata": {
        "trusted": true,
        "_uuid": "a67e7a7d62a04a2d4dfbb4efe4c1e420066dc47a"
      },
      "cell_type": "code",
      "source": "for col in category_feature:\n    train[col].value_counts().plot(kind='bar')\n    plt.title(col)\n    plt.show()",
      "execution_count": null,
      "outputs": []
    },
    {
      "metadata": {
        "trusted": true,
        "scrolled": true,
        "_uuid": "681af740857fe786f0a48967ac4fb5f9047646ca"
      },
      "cell_type": "code",
      "source": "soiltype_df = train.groupby(['Soil_Type','Cover_Type'])['Soil_Type'].count().unstack('Cover_Type')\nsoiltype_df",
      "execution_count": null,
      "outputs": []
    },
    {
      "metadata": {
        "trusted": true,
        "_uuid": "4b497bfa33f4bdc95e3a00efb2595930b8207a7b"
      },
      "cell_type": "code",
      "source": "soiltype_df.plot(kind='bar', figsize=(20,10))\nplt.title('SoilType')\nplt.show()",
      "execution_count": null,
      "outputs": []
    },
    {
      "metadata": {
        "trusted": true,
        "_uuid": "12a214e2556b842624f68b442c893b8fc097213d"
      },
      "cell_type": "code",
      "source": "wildeness_df = train.groupby(['Wilderness_Area','Cover_Type'])['Wilderness_Area'].count().unstack('Cover_Type')\nwildeness_df",
      "execution_count": null,
      "outputs": []
    },
    {
      "metadata": {
        "trusted": true,
        "_uuid": "b88320cd0e5f04fb29e20116bb982803fbae09fa"
      },
      "cell_type": "code",
      "source": "wildeness_df.plot(kind='bar', figsize=(20,10))\nplt.title('Wilderness_Area')\nplt.show()",
      "execution_count": null,
      "outputs": []
    },
    {
      "metadata": {
        "trusted": true,
        "_uuid": "2fadb63e56e2ecb1c47f3bbb95b78fbf9efc5acc"
      },
      "cell_type": "code",
      "source": "oiltype_df = train.groupby(['oil_Type','Cover_Type'])['oil_Type'].count().unstack('Cover_Type')\noiltype_df.plot(kind='bar', figsize=(20,10))\nplt.title('oil_Type')\nplt.show()",
      "execution_count": null,
      "outputs": []
    },
    {
      "metadata": {
        "_uuid": "ee8f07be2df5a53db29599120507efbb9cd4280c"
      },
      "cell_type": "markdown",
      "source": "### Column Duplicate Check"
    },
    {
      "metadata": {
        "trusted": true,
        "scrolled": true,
        "_uuid": "ae4f2098a2a93af64f919d68cc75375813be1597"
      },
      "cell_type": "code",
      "source": "all_data_cat = pd.concat([train[category_feature], test[category_feature]])",
      "execution_count": null,
      "outputs": []
    },
    {
      "metadata": {
        "trusted": true,
        "_uuid": "ed6e2dc9229fdc6ebbed63de8b05b220fd95077f"
      },
      "cell_type": "code",
      "source": "np.sum(np.abs(all_data_cat['Soil_Type'].factorize()[0] - all_data_cat['oil_Type'].factorize()[0]))",
      "execution_count": null,
      "outputs": []
    },
    {
      "metadata": {
        "trusted": true,
        "scrolled": true,
        "_uuid": "9382c298056e9ad6720123ec3daa7cc7642a6375"
      },
      "cell_type": "code",
      "source": "all_data_cat['Soil_Type']",
      "execution_count": null,
      "outputs": []
    },
    {
      "metadata": {
        "trusted": true,
        "_uuid": "2e53a88bd28f50403c2a4180a380695742763cff"
      },
      "cell_type": "code",
      "source": "all_data_cat['Soil_Type'].factorize()[0]",
      "execution_count": null,
      "outputs": []
    },
    {
      "metadata": {
        "trusted": true,
        "_uuid": "e9baec08375361952f2a6b380a7d2b9fc1400cb3"
      },
      "cell_type": "code",
      "source": "%timeit(np.sum(np.abs(train['Soil_Type'].factorize()[0] - train['oil_Type'].factorize()[0])))",
      "execution_count": null,
      "outputs": []
    },
    {
      "metadata": {
        "trusted": true,
        "_uuid": "50c58ce70bd627e6e3b34ca495188bcf1202e408"
      },
      "cell_type": "code",
      "source": "all_data_cat['is_same'] = all_data_cat.apply(lambda row: 1 if row['Soil_Type']== row['oil_Type'] else 0 ,axis=1)\nall_data_cat.loc[all_data_cat['is_same']==0]",
      "execution_count": null,
      "outputs": []
    },
    {
      "metadata": {
        "trusted": true,
        "_uuid": "bea14646e7f737968344d8105766e24fe1eab822"
      },
      "cell_type": "code",
      "source": "%timeit(all_data_cat.apply(lambda row: 1 if row['Soil_Type']== row['oil_Type'] else 0 ,axis=1))",
      "execution_count": null,
      "outputs": []
    },
    {
      "metadata": {
        "_uuid": "e45e7d4bbb116ec079e37ebd01c5a1d37f3e2b67"
      },
      "cell_type": "markdown",
      "source": "### Numerical Feature"
    },
    {
      "metadata": {
        "trusted": true,
        "_uuid": "290fabbd30d78d7de8622d132f6fd72c954e496c"
      },
      "cell_type": "code",
      "source": "numerical_feature = list(set(train.columns) - set(category_feature) - set(['ID','Cover_Type']))\nnumerical_feature = np.sort(numerical_feature)\nnumerical_feature",
      "execution_count": null,
      "outputs": []
    },
    {
      "metadata": {
        "trusted": true,
        "scrolled": true,
        "_uuid": "7622db77f6b143f99fcc1ca7433e18f52d7ceab7"
      },
      "cell_type": "code",
      "source": "for col in numerical_feature:\n    sns.distplot(train.loc[train[col].notnull(), col])\n    plt.title(col)\n    plt.show()",
      "execution_count": null,
      "outputs": []
    },
    {
      "metadata": {
        "trusted": true,
        "_uuid": "7b494bf882edea9725f62ae79687ae63fb353694"
      },
      "cell_type": "code",
      "source": "for col in numerical_feature:\n    col_value = train.loc[train[col].notnull(), col]\n    \n    fig, axs = plt.subplots(ncols=2,figsize=(10,4))\n    sns.distplot(col_value, ax=axs[0])\n    axs[0].set_title(col)\n    sns.distplot(np.log1p(col_value), ax=axs[1])\n    axs[1].set_title('Log transfrom {}'.format(col))\n    plt.show()",
      "execution_count": null,
      "outputs": []
    },
    {
      "metadata": {
        "trusted": true,
        "scrolled": true,
        "_uuid": "a00e1ac3ed8862e0db38ff8177e4a67f939383c8"
      },
      "cell_type": "code",
      "source": "train.loc[train['Vertical_Distance_To_Hydrology']<0].head()",
      "execution_count": null,
      "outputs": []
    },
    {
      "metadata": {
        "trusted": true,
        "_uuid": "f0c7371de45bb3e81998be5b469698dd604a901c"
      },
      "cell_type": "code",
      "source": "sns.distplot(train['Vertical_Distance_To_Hydrology'])\nplt.title('Vertical_Distance_To_Hydrology Distribution')\nplt.show()",
      "execution_count": null,
      "outputs": []
    },
    {
      "metadata": {
        "_uuid": "8428e6e40ce1960e5431e1d8cda4d3afeac5e09a"
      },
      "cell_type": "markdown",
      "source": "### Numerical Feature vs Numerical Feature"
    },
    {
      "metadata": {
        "trusted": true,
        "_uuid": "2fad937df92db7b1b15856696406eba78ba74e3a"
      },
      "cell_type": "code",
      "source": "distance_feature = [col for col in train.columns if col.find('Distance') != -1 ]\ndistance_feature",
      "execution_count": null,
      "outputs": []
    },
    {
      "metadata": {
        "trusted": true,
        "_uuid": "08cead8f41fbc41d1adc6c5bffd2735c5ff63c6b"
      },
      "cell_type": "code",
      "source": "sns.pairplot(train[distance_feature + ['Cover_Type']], hue='Cover_Type', \n             x_vars=distance_feature, y_vars=distance_feature, height=3)\nplt.show()",
      "execution_count": null,
      "outputs": []
    },
    {
      "metadata": {
        "trusted": true,
        "_uuid": "96c9c87daa19bc18caa10a99c997af8acbfdc052"
      },
      "cell_type": "code",
      "source": "other_numerical_feature = [col for col in numerical_feature if col.find('Distance') == -1]\nother_numerical_df = train[other_numerical_feature + ['Cover_Type']]\nother_numerical_df['Elevation'] = np.log1p(other_numerical_df['Elevation'])\n\nsns.pairplot(other_numerical_df.dropna(), x_vars=other_numerical_feature, y_vars=other_numerical_feature, \n             hue='Cover_Type', height=3)\nplt.show()",
      "execution_count": null,
      "outputs": []
    },
    {
      "metadata": {
        "trusted": true,
        "_uuid": "81371e5b70dd1eb54e12a67f93c67d18aca980d8"
      },
      "cell_type": "code",
      "source": "other_numerical_feature = [col for col in numerical_feature if col.find('Distance') == -1]\ndistance_numerical_df = train.copy()\ndistance_numerical_df['Elevation'] = np.log1p(distance_numerical_df['Elevation'])\n\nsns.pairplot(distance_numerical_df.dropna(), x_vars=other_numerical_feature, y_vars=distance_feature, \n             hue='Cover_Type', height=3)\nplt.show()\n\ndel distance_numerical_df",
      "execution_count": null,
      "outputs": []
    },
    {
      "metadata": {
        "_uuid": "1afd208b85afaf016c62326bf78ccbdead9f7d8a"
      },
      "cell_type": "markdown",
      "source": "### Category vs Numerical"
    },
    {
      "metadata": {
        "trusted": true,
        "_uuid": "fc6a344077bf53e82dff29218614b2cd6c1f76b2"
      },
      "cell_type": "code",
      "source": "for col in train.loc[:,train.dtypes=='object'].columns:\n    train[col] = train[col].factorize()[0]",
      "execution_count": null,
      "outputs": []
    },
    {
      "metadata": {
        "trusted": true,
        "scrolled": true,
        "_uuid": "a9f3e06a21cb28a51a9529209d18b7076c2d56de"
      },
      "cell_type": "code",
      "source": "wilderness_area_uniqlist = train['Wilderness_Area'].unique()\n\nfor col in numerical_feature:\n    plt.figure(figsize=(12,6))\n    sns.boxplot(x='Wilderness_Area', y=col, hue='Cover_Type', data=train.dropna())\n    plt.title(\"Wilderness_Area - {}\".format(col))\n    plt.show()\n    \n    fig, axes = plt.subplots(nrows=4, figsize=(10,8))\n    for index, wild in enumerate(wilderness_area_uniqlist):\n        try:\n            wild_frame = train.loc[train['Wilderness_Area']==wild].dropna()\n            \n            axes[index].set_title('Wilderness_Area {} vs {}'.format(wild, col))\n            sns.distplot(wild_frame.loc[wild_frame['Cover_Type']==1,col], ax=axes[index])\n            sns.distplot(wild_frame.loc[wild_frame['Cover_Type']==0,col], ax=axes[index])         \n        except:\n            pass\n        else:\n            del wild_frame\n            gc.collect()\n    plt.tight_layout()\n    plt.show()",
      "execution_count": null,
      "outputs": []
    },
    {
      "metadata": {
        "trusted": true,
        "_uuid": "c3109f2f8680f78648325e23c02cc3096d8f5ff8"
      },
      "cell_type": "code",
      "source": "soil_frame = train.loc[train['Soil_Type']==1].dropna()   ",
      "execution_count": null,
      "outputs": []
    },
    {
      "metadata": {
        "trusted": true,
        "_uuid": "d209649a53190deeab86b6618587db324572af1b"
      },
      "cell_type": "code",
      "source": "soil_frame.loc[soil_frame['Cover_Type']==0, 'Aspect'].shape[0]",
      "execution_count": null,
      "outputs": []
    },
    {
      "metadata": {
        "trusted": true,
        "scrolled": true,
        "_uuid": "a105ce470f88d96f25f68ada0680840c1004d570"
      },
      "cell_type": "code",
      "source": "soil_frame.loc[soil_frame['Cover_Type']==1, 'Aspect'].shape[0]",
      "execution_count": null,
      "outputs": []
    },
    {
      "metadata": {
        "trusted": true,
        "_uuid": "2b5d603ea8cf5393468f0002b4330175620caf38"
      },
      "cell_type": "code",
      "source": "soiltype_uniqlist = train['Soil_Type'].unique()\n\nfor col in numerical_feature:\n    plt.figure(figsize=(16,8))\n    sns.boxplot(x='Soil_Type', y=col, hue='Cover_Type', data=train.dropna())\n    plt.title(\"Soil_Type - {}\".format(col))\n    plt.show()\n    \n    soiltype_uniqlist = train['Soil_Type'].unique()\n    for index, soil in enumerate(soiltype_uniqlist):\n        try:\n            fig, axes = plt.subplots(ncols=2, figsize=(6,3))\n            soil_frame = train.loc[train['Soil_Type']==soil].dropna()        \n            sns.distplot(soil_frame[col], ax=axes[0])  \n            sns.distplot(soil_frame.loc[soil_frame['Cover_Type']==1, col], ax=axes[1])  \n            sns.distplot(soil_frame.loc[soil_frame['Cover_Type']==0, col], ax=axes[1]) \n            axes[0].set_title('Soil_Type {} \\n{}'.format(soil, col))\n            axes[1].set_title('CoverType')\n            axes[1].legend([1,0])\n            plt.tight_layout()\n            plt.show()\n        except:\n            pass\n        else: \n            del soil_frame\n            gc.collect()",
      "execution_count": null,
      "outputs": []
    }
  ],
  "metadata": {
    "kernelspec": {
      "display_name": "Python 3",
      "language": "python",
      "name": "python3"
    },
    "language_info": {
      "name": "python",
      "version": "3.6.6",
      "mimetype": "text/x-python",
      "codemirror_mode": {
        "name": "ipython",
        "version": 3
      },
      "pygments_lexer": "ipython3",
      "nbconvert_exporter": "python",
      "file_extension": ".py"
    }
  },
  "nbformat": 4,
  "nbformat_minor": 1
}